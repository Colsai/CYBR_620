{
  "nbformat": 4,
  "nbformat_minor": 0,
  "metadata": {
    "colab": {
      "name": "Basic_Cryptographic_Algos.ipynb",
      "provenance": [],
      "collapsed_sections": [],
      "authorship_tag": "ABX9TyMBb6y/1X6oZybKc7VbIFOU",
      "include_colab_link": true
    },
    "kernelspec": {
      "name": "python3",
      "display_name": "Python 3"
    },
    "language_info": {
      "name": "python"
    }
  },
  "cells": [
    {
      "cell_type": "markdown",
      "metadata": {
        "id": "view-in-github",
        "colab_type": "text"
      },
      "source": [
        "<a href=\"https://colab.research.google.com/github/Colsai/CYBR_620/blob/main/Basic_Cryptographic_Algos.ipynb\" target=\"_parent\"><img src=\"https://colab.research.google.com/assets/colab-badge.svg\" alt=\"Open In Colab\"/></a>"
      ]
    },
    {
      "cell_type": "code",
      "execution_count": 8,
      "metadata": {
        "colab": {
          "base_uri": "https://localhost:8080/"
        },
        "id": "AjKTDS18uzTj",
        "outputId": "8d62d279-4525-4930-8974-41119c1ca9ef"
      },
      "outputs": [
        {
          "output_type": "stream",
          "name": "stdout",
          "text": [
            "Requirement already satisfied: cryptography in /usr/local/lib/python3.7/dist-packages (36.0.2)\n",
            "Requirement already satisfied: cffi>=1.12 in /usr/local/lib/python3.7/dist-packages (from cryptography) (1.15.0)\n",
            "Requirement already satisfied: pycparser in /usr/local/lib/python3.7/dist-packages (from cffi>=1.12->cryptography) (2.21)\n"
          ]
        }
      ],
      "source": [
        "#Examples From https://www.tutorialspoint.com/cryptography_with_python/cryptography_with_python_quick_guide.htm\n",
        "!pip install cryptography"
      ]
    },
    {
      "cell_type": "code",
      "source": [
        "#Message\n",
        "message = 'Hello, my name is Scott'\n",
        "translated = ''\n",
        "\n",
        "#Basic cipher shuffling\n",
        "i = len(message) - 1\n",
        "\n",
        "while i  >= 0:\n",
        "    translated = translated + message[i]\n",
        "    i-=1\n",
        "print(\"The cipher text is : \", translated)"
      ],
      "metadata": {
        "colab": {
          "base_uri": "https://localhost:8080/"
        },
        "id": "PHEY39OFu1mG",
        "outputId": "a7fa1cb6-f3ec-4cf3-fa73-46af8ba78a30"
      },
      "execution_count": 2,
      "outputs": [
        {
          "output_type": "stream",
          "name": "stdout",
          "text": [
            "The cipher text is :  ttocS si eman ym ,olleH\n"
          ]
        }
      ]
    },
    {
      "cell_type": "code",
      "source": [
        "#Caesar Cipher Example\n",
        "def cipher_encrypt(text, s):\n",
        "    result = \"\"\n",
        "\n",
        "    for i in range(len(text)):\n",
        "        char = text[i]\n",
        "    \n",
        "        if (char.isupper()):\n",
        "            result += chr((ord(char) + s-65) % 26 + 65)\n",
        "\n",
        "        else:\n",
        "            result += chr((ord(char) + s-97) % 26 + 97)\n",
        "    \n",
        "    return result\n",
        "\n",
        "#Letters\n",
        "LETTERS = 'ABCDEFGHIJKLMNOPQRSTUVWXYZ'\n",
        "for key in range(len(LETTERS)):\n",
        "   translated = ''\n",
        "   for symbol in message:\n",
        "      if symbol in LETTERS:\n",
        "         num = LETTERS.find(symbol)\n",
        "         num = num - key\n",
        "         if num < 0:\n",
        "            num = num + len(LETTERS)\n",
        "         translated = translated + LETTERS[num]\n",
        "      else:\n",
        "         translated = translated + symbol\n",
        "print(f'Hacking key #%s: %s' % (key, translated))"
      ],
      "metadata": {
        "colab": {
          "base_uri": "https://localhost:8080/"
        },
        "id": "LDm7RRAsvMTb",
        "outputId": "46021f36-689c-4f43-8ee3-0c6aeee8d86e"
      },
      "execution_count": 15,
      "outputs": [
        {
          "output_type": "stream",
          "name": "stdout",
          "text": [
            "Hacking key #25: Iello, my name is Tcott\n"
          ]
        }
      ]
    },
    {
      "cell_type": "code",
      "source": [
        "hash(\"Hello World\")"
      ],
      "metadata": {
        "colab": {
          "base_uri": "https://localhost:8080/"
        },
        "id": "XSPqLxqkvv9C",
        "outputId": "e52efc4d-e06f-4477-f0d2-b3d87832bf73"
      },
      "execution_count": 17,
      "outputs": [
        {
          "output_type": "execute_result",
          "data": {
            "text/plain": [
              "-6949054839221212153"
            ]
          },
          "metadata": {},
          "execution_count": 17
        }
      ]
    },
    {
      "cell_type": "code",
      "source": [
        "import hashlib"
      ],
      "metadata": {
        "id": "wR1HdpNpxmht"
      },
      "execution_count": 18,
      "outputs": []
    },
    {
      "cell_type": "code",
      "source": [
        "m = hashlib.sha256()\n",
        "m.update(b\"Hello\")\n",
        "m.update(b\" World\")\n",
        "m.digest()\n",
        "m.digest_size"
      ],
      "metadata": {
        "colab": {
          "base_uri": "https://localhost:8080/"
        },
        "id": "hAaI7WG6yBfH",
        "outputId": "5a2ddec9-3905-4ef5-b55e-88431b84a74d"
      },
      "execution_count": 27,
      "outputs": [
        {
          "output_type": "execute_result",
          "data": {
            "text/plain": [
              "32"
            ]
          },
          "metadata": {},
          "execution_count": 27
        }
      ]
    },
    {
      "cell_type": "code",
      "source": [
        "hashlib.sha224(b\"The quick brown fox jumped over the lazy dog\").hexdigest()"
      ],
      "metadata": {
        "colab": {
          "base_uri": "https://localhost:8080/",
          "height": 34
        },
        "id": "qt1d0_NmyIMV",
        "outputId": "ea9b5280-8174-49ee-9656-67fb76a8d44f"
      },
      "execution_count": 33,
      "outputs": [
        {
          "output_type": "execute_result",
          "data": {
            "text/plain": [
              "'4f32403ac4c3f2a2c0fcab3d6fecd5f7a2670577c7178736c2ed97e7'"
            ],
            "application/vnd.google.colaboratory.intrinsic+json": {
              "type": "string"
            }
          },
          "metadata": {},
          "execution_count": 33
        }
      ]
    },
    {
      "cell_type": "code",
      "source": [
        ""
      ],
      "metadata": {
        "id": "jc3OEfx6yOdk"
      },
      "execution_count": null,
      "outputs": []
    }
  ]
}